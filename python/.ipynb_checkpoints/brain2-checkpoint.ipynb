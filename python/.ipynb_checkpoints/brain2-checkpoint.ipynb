{
 "cells": [
  {
   "cell_type": "code",
   "execution_count": null,
   "metadata": {
    "collapsed": true
   },
   "outputs": [],
   "source": [
    "from board import Board\n",
    "import random\n",
    "import pickle\n",
    "from Table_ai import Table_ai\n",
    "import numpy as np"
   ]
  },
  {
   "cell_type": "code",
   "execution_count": null,
   "metadata": {
    "collapsed": true
   },
   "outputs": [],
   "source": [
    "ai = Table_ai()\n",
    "b = Board()"
   ]
  },
  {
   "cell_type": "code",
   "execution_count": null,
   "metadata": {},
   "outputs": [],
   "source": [
    "ai.table\n"
   ]
  },
  {
   "cell_type": "code",
   "execution_count": null,
   "metadata": {
    "scrolled": false
   },
   "outputs": [],
   "source": [
    "ai.Run(5000,.5, False)\n",
    "# ai.Run(1, 0, True)\n",
    "ai.Run(30000, .1)\n",
    "# ai.Run(30000, .5)\n",
    "# print(\"\\n\\nAfter 0.1 \\n\\n\")\n",
    "# print(\"----------------------------\")\n",
    "# print(\"----------------------------\")\n",
    "# print(\"----------------------------\")\n",
    "\n",
    "\n",
    "# ai.Run(1, 0, True)\n",
    "# ai.Run(100000, .2)\n",
    "# ai.Run(100000, 0.1)\n",
    "# ai.Run(1000, 0.5)\n",
    "ai.Run(1000000, 0.05)\n",
    "print(\"\\n\\nFINAL\\n\\n\")\n",
    "print(\"----------------------------\")\n",
    "print(\"----------------------------\")\n",
    "print(\"----------------------------\")\n",
    "\n",
    "table = ai.Run(3, 0, True)"
   ]
  },
  {
   "cell_type": "code",
   "execution_count": null,
   "metadata": {
    "scrolled": false
   },
   "outputs": [],
   "source": [
    "ai.Run(3, 0, True)"
   ]
  },
  {
   "cell_type": "code",
   "execution_count": null,
   "metadata": {
    "collapsed": true
   },
   "outputs": [],
   "source": [
    "table = ai.table"
   ]
  },
  {
   "cell_type": "code",
   "execution_count": null,
   "metadata": {
    "collapsed": true
   },
   "outputs": [],
   "source": [
    "# b.print_board(list((556206917161, 50538708)), 0)"
   ]
  },
  {
   "cell_type": "code",
   "execution_count": null,
   "metadata": {
    "collapsed": true,
    "scrolled": false
   },
   "outputs": [],
   "source": [
    "seen_tot = 0\n",
    "wins_tot = 0\n",
    "for v in table.values():\n",
    "    seen_tot += v['seen'] - 20\n",
    "    wins_tot += v['wins'] - 10\n",
    "\n",
    "#     print(v,k)\n",
    "\n",
    "print(seen_tot, wins_tot, float(wins_tot) / seen_tot)\n",
    "avg_seen = seen_tot / len(table)\n",
    "\n",
    "print(avg_seen)"
   ]
  },
  {
   "cell_type": "code",
   "execution_count": null,
   "metadata": {
    "collapsed": true
   },
   "outputs": [],
   "source": [
    "ai.Run(1,0,True)"
   ]
  },
  {
   "cell_type": "code",
   "execution_count": null,
   "metadata": {
    "collapsed": true
   },
   "outputs": [],
   "source": [
    "x = []\n",
    "for u in range(1000):\n",
    "    x.append( np.random.randint(0,6))"
   ]
  },
  {
   "cell_type": "code",
   "execution_count": null,
   "metadata": {
    "collapsed": true
   },
   "outputs": [],
   "source": [
    "max(x)"
   ]
  },
  {
   "cell_type": "code",
   "execution_count": null,
   "metadata": {
    "collapsed": true
   },
   "outputs": [],
   "source": [
    "min(x)"
   ]
  },
  {
   "cell_type": "code",
   "execution_count": null,
   "metadata": {
    "collapsed": true
   },
   "outputs": [],
   "source": [
    "\\"
   ]
  }
 ],
 "metadata": {
  "kernelspec": {
   "display_name": "Python [default]",
   "language": "python",
   "name": "python3"
  },
  "language_info": {
   "codemirror_mode": {
    "name": "ipython",
    "version": 3
   },
   "file_extension": ".py",
   "mimetype": "text/x-python",
   "name": "python",
   "nbconvert_exporter": "python",
   "pygments_lexer": "ipython3",
   "version": "3.5.3"
  }
 },
 "nbformat": 4,
 "nbformat_minor": 2
}
