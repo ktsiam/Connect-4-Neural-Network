{
 "cells": [
  {
   "cell_type": "code",
   "execution_count": 1,
   "metadata": {
    "collapsed": true
   },
   "outputs": [],
   "source": [
    "from board import Board\n",
    "import random\n",
    "import pickle\n",
    "from Table_ai import Table_ai\n",
    "import numpy as np"
   ]
  },
  {
   "cell_type": "code",
   "execution_count": 2,
   "metadata": {
    "collapsed": true
   },
   "outputs": [],
   "source": [
    "ai = Table_ai()\n",
    "b = Board()"
   ]
  },
  {
   "cell_type": "code",
   "execution_count": 3,
   "metadata": {},
   "outputs": [
    {
     "data": {
      "text/plain": [
       "{}"
      ]
     },
     "execution_count": 3,
     "metadata": {},
     "output_type": "execute_result"
    }
   ],
   "source": [
    "ai.table\n"
   ]
  },
  {
   "cell_type": "code",
   "execution_count": 6,
   "metadata": {
    "scrolled": false
   },
   "outputs": [
    {
     "ename": "SyntaxError",
     "evalue": "invalid syntax (<ipython-input-6-d81781c460ea>, line 10)",
     "output_type": "error",
     "traceback": [
      "\u001b[0;36m  File \u001b[0;32m\"<ipython-input-6-d81781c460ea>\"\u001b[0;36m, line \u001b[0;32m10\u001b[0m\n\u001b[0;31m    for i in range(1:10):\u001b[0m\n\u001b[0m                    ^\u001b[0m\n\u001b[0;31mSyntaxError\u001b[0m\u001b[0;31m:\u001b[0m invalid syntax\n"
     ]
    }
   ],
   "source": [
    "ai.Run(1000,.4, False)\n",
    "# ai.Run(1, 0, True)\n",
    "ai.Run(10000, .2)\n",
    "ai.Run(100000, .1)\n",
    "# print(\"\\n\\nAfter 0.1 \\n\\n\")\n",
    "# print(\"----------------------------\")\n",
    "# print(\"----------------------------\")\n",
    "# print(\"----------------------------\")\n",
    "\n",
    "for i in range(1, 10):\n",
    "# ai.Run(1, 0, True)\n",
    "    ai.Run(1000000, .01)\n",
    "# ai.Run(100000, 0.1)\n",
    "# ai.Run(1000, 0.5)\n",
    "#ai.Run(1000000, 0.05)\n",
    "    print(i)\n",
    "print(\"\\n\\nFINAL\\n\\n\")\n",
    "print(\"----------------------------\")\n",
    "print(\"----------------------------\")\n",
    "print(\"----------------------------\")\n",
    "\n",
    "table = ai.Run(1, 0, True)"
   ]
  },
  {
   "cell_type": "code",
   "execution_count": null,
   "metadata": {
    "collapsed": true,
    "scrolled": false
   },
   "outputs": [],
   "source": [
    "ai.Run(3, 0, True)"
   ]
  },
  {
   "cell_type": "code",
   "execution_count": null,
   "metadata": {
    "collapsed": true
   },
   "outputs": [],
   "source": [
    "table = ai.table"
   ]
  },
  {
   "cell_type": "code",
   "execution_count": null,
   "metadata": {
    "collapsed": true
   },
   "outputs": [],
   "source": [
    "# b.print_board(list((556206917161, 50538708)), 0)"
   ]
  },
  {
   "cell_type": "code",
   "execution_count": null,
   "metadata": {
    "collapsed": true,
    "scrolled": false
   },
   "outputs": [],
   "source": [
    "seen_tot = 0\n",
    "wins_tot = 0\n",
    "for v in table.values():\n",
    "    seen_tot += v['seen'] - 20\n",
    "    wins_tot += v['wins'] - 10\n",
    "\n",
    "#     print(v,k)\n",
    "\n",
    "print(seen_tot, wins_tot, float(wins_tot) / seen_tot)\n",
    "avg_seen = seen_tot / len(table)\n",
    "\n",
    "print(avg_seen)"
   ]
  },
  {
   "cell_type": "code",
   "execution_count": null,
   "metadata": {
    "collapsed": true
   },
   "outputs": [],
   "source": [
    "ai.Run(1,0,True)"
   ]
  },
  {
   "cell_type": "code",
   "execution_count": null,
   "metadata": {
    "collapsed": true
   },
   "outputs": [],
   "source": [
    "x = []\n",
    "for u in range(1000):\n",
    "    x.append( np.random.randint(0,6))"
   ]
  },
  {
   "cell_type": "code",
   "execution_count": null,
   "metadata": {
    "collapsed": true
   },
   "outputs": [],
   "source": [
    "max(x)"
   ]
  },
  {
   "cell_type": "code",
   "execution_count": null,
   "metadata": {
    "collapsed": true
   },
   "outputs": [],
   "source": [
    "min(x)"
   ]
  },
  {
   "cell_type": "code",
   "execution_count": null,
   "metadata": {
    "collapsed": true
   },
   "outputs": [],
   "source": [
    "\\"
   ]
  }
 ],
 "metadata": {
  "kernelspec": {
   "display_name": "Python 3",
   "language": "python",
   "name": "python3"
  },
  "language_info": {
   "codemirror_mode": {
    "name": "ipython",
    "version": 3
   },
   "file_extension": ".py",
   "mimetype": "text/x-python",
   "name": "python",
   "nbconvert_exporter": "python",
   "pygments_lexer": "ipython3",
   "version": "3.6.3"
  }
 },
 "nbformat": 4,
 "nbformat_minor": 2
}
